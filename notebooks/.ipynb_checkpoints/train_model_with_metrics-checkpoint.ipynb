{
 "cells": [
  {
   "cell_type": "markdown",
   "metadata": {},
   "source": [
    "# Steel Industry Energy Consumption - Model Training with Metrics\n",
    "\n",
    "This notebook demonstrates the training process for our energy consumption prediction model with detailed accuracy metrics."
   ]
  },
  {
   "cell_type": "code",
   "execution_count": null,
   "metadata": {},
   "source": [
    "import sys\n",
    "import os\n",
    "sys.path.append('../src')\n",
    "\n",
    "import torch\n",
    "import pandas as pd\n",
    "import numpy as np\n",
    "import matplotlib.pyplot as plt\n",
    "import seaborn as sns\n",
    "from steel_energy_opt.data_processor import DataProcessor\n",
    "from steel_energy_opt.model import EnergyPredictor, ModelTrainer"
   ]
  },
  {
   "cell_type": "markdown",
   "metadata": {},
   "source": [
    "## 1. Load and Preprocess Data"
   ]
  },
  {
   "cell_type": "code",
   "execution_count": null,
   "metadata": {},
   "source": [
    "# Initialize data processor\n",
    "processor = DataProcessor()\n",
    "\n",
    "# Load and preprocess data\n",
    "data_path = '../data/raw/Steel_industry_data.csv'\n",
    "df = processor.load_data(data_path)\n",
    "df = processor.preprocess_data(df)\n",
    "\n",
    "# Display basic information about the dataset\n",
    "print(\"Dataset Info:\")\n",
    "print(df.info())\n",
    "print(\"\\nSample Data:\")\n",
    "print(df.head())"
   ]
  },
  {
   "cell_type": "markdown",
   "metadata": {},
   "source": [
    "## 2. Prepare Features and Split Data"
   ]
  },
  {
   "cell_type": "code",
   "execution_count": null,
   "metadata": {},
   "source": [
    "# Prepare features\n",
    "X, y = processor.prepare_features(df)\n",
    "\n",
    "# Split data\n",
    "data_splits = processor.split_data(X, y)\n",
    "\n",
    "# Convert to PyTorch tensors\n",
    "X_train = torch.FloatTensor(data_splits['X_train'])\n",
    "y_train = torch.FloatTensor(data_splits['y_train'])\n",
    "X_val = torch.FloatTensor(data_splits['X_val'])\n",
    "y_val = torch.FloatTensor(data_splits['y_val'])\n",
    "X_test = torch.FloatTensor(data_splits['X_test'])\n",
    "y_test = torch.FloatTensor(data_splits['y_test'])\n",
    "\n",
    "print(f\"Training set size: {X_train.shape}\")\n",
    "print(f\"Validation set size: {X_val.shape}\")\n",
    "print(f\"Test set size: {X_test.shape}\")"
   ]
  },
  {
   "cell_type": "markdown",
   "metadata": {},
   "source": [
    "## 3. Initialize and Train Model"
   ]
  },
  {
   "cell_type": "code",
   "execution_count": null,
   "metadata": {},
   "source": [
    "# Initialize model\n",
    "input_size = X_train.shape[1]\n",
    "model = EnergyPredictor(input_size=input_size)\n",
    "trainer = ModelTrainer(model)\n",
    "\n",
    "# Train model\n",
    "history = trainer.train(\n",
    "    train_data=(X_train, y_train),\n",
    "    val_data=(X_val, y_val),\n",
    "    epochs=10000,\n",
    "    early_stopping_patience=20\n",
    ")"
   ]
  },
  {
   "cell_type": "markdown",
   "metadata": {},
   "source": [
    "## 4. Visualize Training Results"
   ]
  },
  {
   "cell_type": "code",
   "execution_count": null,
   "metadata": {},
   "source": [
    "# Plot training metrics\n",
    "fig, axes = plt.subplots(2, 2, figsize=(15, 10))\n",
    "\n",
    "# Plot MSE\n",
    "axes[0,0].plot(history['train_mse'], label='Training MSE')\n",
    "axes[0,0].plot(history['val_mse'], label='Validation MSE')\n",
    "axes[0,0].set_xlabel('Epoch')\n",
    "axes[0,0].set_ylabel('Mean Squared Error')\n",
    "axes[0,0].set_title('MSE Over Time')\n",
    "axes[0,0].legend()\n",
    "axes[0,0].grid(True)\n",
    "\n",
    "# Plot R² Score\n",
    "axes[0,1].plot(history['train_r2'], label='Training R²')\n",
    "axes[0,1].plot(history['val_r2'], label='Validation R²')\n",
    "axes[0,1].set_xlabel('Epoch')\n",
    "axes[0,1].set_ylabel('R² Score')\n",
    "axes[0,1].set_title('R² Score Over Time')\n",
    "axes[0,1].legend()\n",
    "axes[0,1].grid(True)\n",
    "\n",
    "# Plot MAPE\n",
    "axes[1,0].plot(history['train_mape'], label='Training MAPE')\n",
    "axes[1,0].plot(history['val_mape'], label='Validation MAPE')\n",
    "axes[1,0].set_xlabel('Epoch')\n",
    "axes[1,0].set_ylabel('Mean Absolute Percentage Error (%)')\n",
    "axes[1,0].set_title('MAPE Over Time')\n",
    "axes[1,0].legend()\n",
    "axes[1,0].grid(True)\n",
    "\n",
    "# Print final metrics\n",
    "print(\"Final Metrics:\")\n",
    "print(f\"Training R² Score: {history['train_r2'][-1]:.4f}\")\n",
    "print(f\"Validation R² Score: {history['val_r2'][-1]:.4f}\")\n",
    "print(f\"Training MAPE: {history['train_mape'][-1]:.2f}%\")\n",
    "print(f\"Validation MAPE: {history['val_mape'][-1]:.2f}%\")\n",
    "\n",
    "plt.tight_layout()\n",
    "plt.show()"
   ]
  },
  {
   "cell_type": "markdown",
   "metadata": {},
   "source": [
    "## 5. Evaluate Model on Test Set"
   ]
  },
  {
   "cell_type": "code",
   "execution_count": null,
   "metadata": {},
   "source": [
    "# Get predictions and metrics on test set\n",
    "test_metrics = trainer.validate(X_test, y_test)\n",
    "test_predictions = trainer.predict(X_test).squeeze()\n",
    "\n",
    "print(\"Test Set Performance:\")\n",
    "print(f\"R² Score: {test_metrics['r2_score']:.4f}\")\n",
    "print(f\"Mean Absolute Percentage Error: {test_metrics['mape']:.2f}%\")\n",
    "print(f\"Mean Squared Error: {test_metrics['mse']:.4f}\")\n",
    "\n",
    "# Plot actual vs predicted values\n",
    "plt.figure(figsize=(10, 6))\n",
    "plt.scatter(y_test.numpy(), test_predictions.numpy(), alpha=0.5)\n",
    "plt.plot([y_test.min(), y_test.max()], [y_test.min(), y_test.max()], 'r--', label='Perfect Prediction')\n",
    "plt.xlabel('Actual Energy Consumption')\n",
    "plt.ylabel('Predicted Energy Consumption')\n",
    "plt.title('Actual vs Predicted Energy Consumption')\n",
    "plt.legend()\n",
    "plt.grid(True)\n",
    "plt.show()\n",
    "\n",
    "# Plot prediction error distribution\n",
    "errors = (test_predictions.numpy() - y_test.numpy())\n",
    "plt.figure(figsize=(10, 6))\n",
    "sns.histplot(errors, bins=50, kde=True)\n",
    "plt.xlabel('Prediction Error')\n",
    "plt.ylabel('Count')\n",
    "plt.title('Distribution of Prediction Errors')\n",
    "plt.grid(True)\n",
    "plt.show()"
   ]
  },
  {
   "cell_type": "markdown",
   "metadata": {},
   "source": [
    "## 6. Save Model"
   ]
  },
  {
   "cell_type": "code",
   "execution_count": null,
   "metadata": {},
   "source": [
    "# Save the trained model\n",
    "from datetime import datetime\n",
    "import os\n",
    "\n",
    "save_dir = '../models'\n",
    "os.makedirs(save_dir, exist_ok=True)\n",
    "timestamp = datetime.now().strftime(\"%Y%m%d_%H%M%S\")\n",
    "save_path = os.path.join(save_dir, f\"model_{timestamp}.pt\")\n",
    "\n",
    "torch.save({\n",
    "    'model_state_dict': model.state_dict(),\n",
    "    'optimizer_state_dict': trainer.optimizer.state_dict(),\n",
    "    'history': history,\n",
    "    'test_metrics': test_metrics\n",
    "}, save_path)\n",
    "\n",
    "print(f\"Model saved to {save_path}\")"
   ]
  }
 ],
 "metadata": {
  "kernelspec": {
   "display_name": "Python 3",
   "language": "python",
   "name": "python3"
  },
  "language_info": {
   "codemirror_mode": {
    "name": "ipython",
    "version": 3
   },
   "file_extension": ".py",
   "mimetype": "text/x-python",
   "name": "python",
   "nbconvert_exporter": "python",
   "pygments_lexer": "ipython3",
   "version": "3.10.0"
  }
 },
 "nbformat": 4,
 "nbformat_minor": 4
}
